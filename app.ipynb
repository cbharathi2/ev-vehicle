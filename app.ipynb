{
 "cells": [
  {
   "cell_type": "code",
   "execution_count": null,
   "id": "5ce3d310",
   "metadata": {},
   "outputs": [],
   "source": [
    "import pandas as pd\n",
    "import matplotlib.pyplot as plt\n",
    "from sklearn.linear_model import LinearRegression\n",
    "from sklearn.model_selection import train_test_split\n",
    "from sklearn.metrics import mean_squared_error, r2_score\n",
    "import datetime"
   ]
  },
  {
   "cell_type": "code",
   "execution_count": null,
   "id": "7e146242",
   "metadata": {},
   "outputs": [],
   "source": [
    "# Load the dataset\n",
    "df = pd.read_csv(\"Electric_Vehicle_Population_Size_History_By_County_.csv\")"
   ]
  },
  {
   "cell_type": "code",
   "execution_count": null,
   "id": "adcb62fc",
   "metadata": {},
   "outputs": [],
   "source": [
    "# View columns and clean numeric columns\n",
    "df['Date'] = pd.to_datetime(df['Date'], errors='coerce')\n",
    "df['Electric Vehicle (EV) Total'] = df['Electric Vehicle (EV) Total'].replace(',', '', regex=True).astype(float)"
   ]
  },
  {
   "cell_type": "code",
   "execution_count": null,
   "id": "ae7c9a28",
   "metadata": {},
   "outputs": [],
   "source": [
    "# Drop rows with missing date or EV total\n",
    "df = df.dropna(subset=['Date', 'Electric Vehicle (EV) Total'])"
   ]
  },
  {
   "cell_type": "code",
   "execution_count": null,
   "id": "9a92768a",
   "metadata": {},
   "outputs": [],
   "source": [
    "# Extract year\n",
    "df['year'] = df['Date'].dt.year\n",
    "df = df.groupby('year')['Electric Vehicle (EV) Total'].sum().reset_index()\n",
    "df.rename(columns={'Electric Vehicle (EV) Total': 'ev_count'}, inplace=True)"
   ]
  },
  {
   "cell_type": "code",
   "execution_count": null,
   "id": "0cbb409c",
   "metadata": {},
   "outputs": [],
   "source": [
    "# Split data\n",
    "X = df[['year']]\n",
    "y = df['ev_count']\n",
    "X_train, X_test, y_train, y_test = train_test_split(X, y, test_size=0.2, random_state=42)"
   ]
  },
  {
   "cell_type": "code",
   "execution_count": null,
   "id": "bbf46276",
   "metadata": {},
   "outputs": [],
   "source": [
    "# Train model\n",
    "model = LinearRegression()\n",
    "model.fit(X_train, y_train)"
   ]
  },
  {
   "cell_type": "code",
   "execution_count": null,
   "id": "69cf4764",
   "metadata": {},
   "outputs": [],
   "source": [
    "# Predict future years\n",
    "future_years = pd.DataFrame({'year': list(range(2025, 2031))})\n",
    "future_preds = model.predict(future_years)"
   ]
  },
  {
   "cell_type": "code",
   "execution_count": null,
   "id": "adf54b50",
   "metadata": {},
   "outputs": [],
   "source": [
    "# Plotting\n",
    "plt.figure(figsize=(10, 6))\n",
    "plt.plot(df['year'], df['ev_count'], marker='o', label=\"Historical EV Count\")\n",
    "plt.plot(future_years['year'], future_preds, marker='x', linestyle='--', color='red', label=\"Predicted EV Count\")\n",
    "plt.xlabel(\"Year\")\n",
    "plt.ylabel(\"EV Count\")\n",
    "plt.title(\"EV Adoption Forecast\")\n",
    "plt.legend()\n",
    "plt.grid(True)\n",
    "plt.tight_layout()\n",
    "plt.show()"
   ]
  },
  {
   "cell_type": "code",
   "execution_count": null,
   "id": "d58eedb8",
   "metadata": {},
   "outputs": [],
   "source": [
    "# Print R2 Score\n",
    "y_pred = model.predict(X_test)\n",
    "print(\"R² Score:\", r2_score(y_test, y_pred))"
   ]
  }
 ],
 "metadata": {
  "jupytext": {
   "cell_metadata_filter": "-all",
   "main_language": "python",
   "notebook_metadata_filter": "-all"
  }
 },
 "nbformat": 4,
 "nbformat_minor": 5
}
